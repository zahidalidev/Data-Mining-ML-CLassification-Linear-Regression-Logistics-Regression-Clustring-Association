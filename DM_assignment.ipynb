{
  "nbformat": 4,
  "nbformat_minor": 0,
  "metadata": {
    "colab": {
      "name": "DM assignment",
      "provenance": [],
      "collapsed_sections": [],
      "authorship_tag": "ABX9TyNmTkJrF4HLJYgnDzMvxDj9",
      "include_colab_link": true
    },
    "kernelspec": {
      "name": "python3",
      "display_name": "Python 3"
    },
    "language_info": {
      "name": "python"
    }
  },
  "cells": [
    {
      "cell_type": "markdown",
      "metadata": {
        "id": "view-in-github",
        "colab_type": "text"
      },
      "source": [
        "<a href=\"https://colab.research.google.com/github/zahidalidev/Data-Mining-ML-CLassification-Linear-Regression-Logistics-Regression-Clustring-Association/blob/main/DM_assignment.ipynb\" target=\"_parent\"><img src=\"https://colab.research.google.com/assets/colab-badge.svg\" alt=\"Open In Colab\"/></a>"
      ]
    },
    {
      "cell_type": "code",
      "execution_count": null,
      "metadata": {
        "id": "Kc6SkKsCsAR-"
      },
      "outputs": [],
      "source": [
        "import pandas as pd\n",
        "import numpy as np\n",
        "\n",
        "import matplotlib.patches as mpatches\n",
        "import matplotlib.pyplot as plt\n",
        "\n",
        "from sklearn.linear_model import LinearRegression, LogisticRegression\n",
        "from sklearn.neighbors import KNeighborsClassifier\n",
        "from sklearn.cluster import KMeans\n",
        "from sklearn.metrics import confusion_matrix\n",
        "\n",
        "from sklearn.model_selection import train_test_split\n",
        "from sklearn.metrics import accuracy_score\n",
        "\n",
        "from sklearn.model_selection import train_test_split\n",
        "from apyori import apriori\n",
        "\n",
        "from sklearn import preprocessing\n",
        "label_encoder = preprocessing.LabelEncoder()\n",
        "\n",
        "# reading dataset\n",
        "dataFrame = pd.read_excel('/content/allmatch.xlsx')\n",
        "\n",
        "\n",
        "\n"
      ]
    },
    {
      "cell_type": "code",
      "source": [
        "# Linear Regression\n",
        "\n",
        "# preprocessing\n",
        "columns = [\"Delivery Speed\", \"Total Runs \"]\n",
        "df = dataFrame[columns]\n",
        "\n",
        "# removing NaN and Unknown values\n",
        "df=df[df['Delivery Speed'].notna()]\n",
        "df=df[df['Delivery Speed']!='Unknown']\n",
        "\n",
        "X = df[[\"Delivery Speed\"]].to_numpy()\n",
        "Y = df[\"Total Runs \"].to_numpy()\n",
        "\n",
        "\n",
        "XTrain, XTest, YTrain, YTest = train_test_split(X, Y, test_size=0.40, random_state=42)\n",
        "\n",
        "linear_regression=LinearRegression().fit(XTrain,YTrain)\n",
        "\n",
        "yPred=linear_regression.predict(XTest)\n",
        "\n",
        "yPred=np.round(yPred,0)\n",
        "\n",
        "regression_model_accuracy=accuracy_score(YTest, yPred)\n",
        "\n",
        "print(\"Accuracy\", regression_model_accuracy*100)\n",
        "\n",
        "# # Plot outputs\n",
        "# plt.scatter(XTest, YTest, color=\"black\")\n",
        "# plt.plot(XTest, yPred, color=\"blue\", linewidth=3)\n",
        "\n",
        "# plt.xticks(())\n",
        "# plt.yticks(())\n",
        "# plt.xlabel(\"Delivery Speed\")\n",
        "# plt.ylabel(\"Total Runs\")\n",
        "# plt.show()\n"
      ],
      "metadata": {
        "colab": {
          "base_uri": "https://localhost:8080/"
        },
        "id": "JQQNAtzauHkA",
        "outputId": "d70a036e-5457-454c-c945-8badc9dec536"
      },
      "execution_count": null,
      "outputs": [
        {
          "output_type": "stream",
          "name": "stdout",
          "text": [
            "Accuracy 40.625\n"
          ]
        }
      ]
    },
    {
      "cell_type": "code",
      "source": [
        "# Classification KNN \n",
        "columns = [\"Shot Type \", \"Outcome\"]\n",
        "knnDf = dataFrame[columns]\n",
        "\n",
        "# Preprocessing, removing NaN and Unknown values\n",
        "knnDf=knnDf[knnDf['Shot Type '].notna()]\n",
        "knnDf=knnDf[knnDf['Shot Type ']!='Unknown']\n",
        "knnDf=knnDf[knnDf['Outcome'].notna()]\n",
        "knnDf=knnDf[knnDf['Outcome']!='Unknown']\n",
        "\n",
        "# encoding labels.\n",
        "knnDf['Shot Type '] = label_encoder.fit_transform(knnDf['Shot Type '])\n",
        "knnDf['Outcome'] = label_encoder.fit_transform(knnDf['Outcome'])\n",
        "\n",
        "# to numpy array\n",
        "X = knnDf[[\"Shot Type \"]].to_numpy()\n",
        "Y = knnDf[\"Outcome\"].to_numpy()\n",
        "\n",
        "X=X.astype('int')\n",
        "\n",
        "XTrain, XTest, YTrain, YTest = train_test_split(X, Y, test_size=0.25, random_state=42)\n",
        "\n",
        "knn=KNeighborsClassifier(n_neighbors=7)\n",
        "knn.fit(XTrain,YTrain)\n",
        "\n",
        "yPred=knn.predict(XTest)\n",
        "\n",
        "knn_preprocessing_model_accuracy=accuracy_score(YTest, yPred)\n",
        "print(knn_preprocessing_model_accuracy*100)\n",
        "\n",
        "print(knnDf)\n",
        "# # Plot outputs\n",
        "# plt.scatter(XTest, YTest, color=\"black\")\n",
        "# plt.plot(XTest, yPred, color=\"blue\", linewidth=3)\n",
        "\n",
        "# plt.xticks(())\n",
        "# plt.yticks(())\n",
        "# plt.xlabel(\"Shot Type\")\n",
        "# plt.ylabel(\"Outcome\")\n",
        "# plt.show()"
      ],
      "metadata": {
        "colab": {
          "base_uri": "https://localhost:8080/"
        },
        "id": "4eAfIJayRokC",
        "outputId": "d41911f9-3db6-4ac2-8a87-3115d6173d65"
      },
      "execution_count": null,
      "outputs": [
        {
          "output_type": "stream",
          "name": "stdout",
          "text": [
            "48.0\n",
            "     Shot Type   Outcome\n",
            "2             8       13\n",
            "4             2        3\n",
            "5             0        2\n",
            "6             3        6\n",
            "7             2        6\n",
            "..          ...      ...\n",
            "449          13        6\n",
            "454          35        2\n",
            "456          38        6\n",
            "457          33        6\n",
            "458          31       12\n",
            "\n",
            "[300 rows x 2 columns]\n"
          ]
        }
      ]
    },
    {
      "cell_type": "code",
      "source": [
        "# Clustring\n",
        "columns = [\"Batsman_Name+Cricinfo_Link\", \"Total Runs \"]\n",
        "kmDf = dataFrame[columns]\n",
        "\n",
        "batsmans = kmDf[[\"Batsman_Name+Cricinfo_Link\"]].values\n",
        "uniqueBatsmans = np.unique(batsmans)\n",
        "\n",
        "batsmanWithRuns = kmDf.to_numpy()\n",
        "for i, x in enumerate(uniqueBatsmans):\n",
        "  uniqueBatsmans[i] = np.array([uniqueBatsmans[i], 0])\n",
        "\n",
        "for i, x in enumerate(uniqueBatsmans):\n",
        "  for j, y in enumerate(batsmanWithRuns):\n",
        "    if(uniqueBatsmans[i][0] == batsmanWithRuns[j][0]):\n",
        "      uniqueBatsmans[i][1] = int(uniqueBatsmans[i][1]) + int(batsmanWithRuns[j][1])\n",
        "\n",
        "X = []\n",
        "Y = []\n",
        "\n",
        "for i, x in enumerate(uniqueBatsmans):\n",
        "  X.append([uniqueBatsmans[i][0]])\n",
        "  Y.append(int(uniqueBatsmans[i][1]))\n",
        "\n",
        "X = np.array(X)\n",
        "Y = np.array(Y)\n",
        "\n",
        "X = label_encoder.fit_transform(X)\n",
        "X = np.array(X)\n",
        "\n",
        "index = len(kmDf) - len(X)\n",
        "kmDf = kmDf.truncate(index)\n",
        "\n",
        "kmDf[\"Batsman_Name+Cricinfo_Link\"] = X\n",
        "kmDf[\"Total Runs \"] = Y\n",
        "\n",
        "# k means\n",
        "kmeans = KMeans(n_clusters=3, random_state=0)\n",
        "\n",
        "kmDf['cluster'] = kmeans.fit_predict(kmDf[[\"Batsman_Name+Cricinfo_Link\", \"Total Runs \"]])\n",
        "\n",
        "# get centroids\n",
        "centroids = kmeans.cluster_centers_\n",
        "cen_x = [i[0] for i in centroids] \n",
        "cen_y = [i[1] for i in centroids]\n",
        "\n",
        "## add to df\n",
        "kmDf['cen_x'] = kmDf.cluster.map({0:cen_x[0], 1:cen_x[1], 2:cen_x[2]})\n",
        "kmDf['cen_y'] = kmDf.cluster.map({0:cen_y[0], 1:cen_y[1], 2:cen_y[2]})\n",
        "\n",
        "# define and map colors\n",
        "colors = ['#DF2020', '#81DF20', '#2095DF']\n",
        "kmDf['c'] = kmDf.cluster.map({0:colors[0], 1:colors[1], 2:colors[2]})\n",
        "\n",
        "plt.scatter(kmDf[\"Batsman_Name+Cricinfo_Link\"], kmDf[\"Total Runs \"], c=kmDf.c, alpha = 0.6, s=20)\n",
        "\n",
        "plt.xlabel(\"Player Number\")\n",
        "plt.ylabel(\"Total Runs\")\n",
        "red_patch = mpatches.Patch(color='#DF2020', label='Blasters')\n",
        "blue_patch = mpatches.Patch(color='#81DF20', label='Passables')\n",
        "green_patch = mpatches.Patch(color='#2095DF', label='Makers')\n",
        "\n",
        "plt.legend(handles=[red_patch, green_patch, blue_patch])\n",
        "plt.show()\n",
        "\n",
        "print(kmDf)"
      ],
      "metadata": {
        "colab": {
          "base_uri": "https://localhost:8080/",
          "height": 767
        },
        "id": "iT_UhHSe57dx",
        "outputId": "15da2ab3-f22f-4a83-dfe3-2a2d32a56499"
      },
      "execution_count": null,
      "outputs": [
        {
          "output_type": "stream",
          "name": "stderr",
          "text": [
            "/usr/local/lib/python3.7/dist-packages/sklearn/preprocessing/_label.py:115: DataConversionWarning: A column-vector y was passed when a 1d array was expected. Please change the shape of y to (n_samples, ), for example using ravel().\n",
            "  y = column_or_1d(y, warn=True)\n"
          ]
        },
        {
          "output_type": "display_data",
          "data": {
            "image/png": "[encoded data removed]",
            "text/plain": [
              "<Figure size 432x288 with 1 Axes>"
            ]
          },
          "metadata": {
            "needs_background": "light"
          }
        },
        {
          "output_type": "stream",
          "name": "stdout",
          "text": [
            "     Batsman_Name+Cricinfo_Link  Total Runs   ...      cen_y        c\n",
            "437                           0           23  ...  33.000000  #2095DF\n",
            "438                           1            0  ...   8.307692  #81DF20\n",
            "439                           2            9  ...   8.307692  #81DF20\n",
            "440                           3           68  ...  66.750000  #DF2020\n",
            "441                           4           27  ...  33.000000  #2095DF\n",
            "442                           5            3  ...   8.307692  #81DF20\n",
            "443                           6           64  ...  66.750000  #DF2020\n",
            "444                           7           14  ...   8.307692  #81DF20\n",
            "445                           8            8  ...   8.307692  #81DF20\n",
            "446                           9            9  ...   8.307692  #81DF20\n",
            "447                          10           14  ...   8.307692  #81DF20\n",
            "448                          11           34  ...  33.000000  #2095DF\n",
            "449                          12           69  ...  66.750000  #DF2020\n",
            "450                          13            0  ...   8.307692  #81DF20\n",
            "451                          14            8  ...   8.307692  #81DF20\n",
            "452                          15           18  ...   8.307692  #81DF20\n",
            "453                          16            8  ...   8.307692  #81DF20\n",
            "454                          17           45  ...  33.000000  #2095DF\n",
            "455                          18            7  ...   8.307692  #81DF20\n",
            "456                          19           66  ...  66.750000  #DF2020\n",
            "457                          20           36  ...  33.000000  #2095DF\n",
            "458                          21           10  ...   8.307692  #81DF20\n",
            "\n",
            "[22 rows x 6 columns]\n"
          ]
        }
      ]
    },
    {
      "cell_type": "code",
      "source": [
        "# Logistic Regression\n",
        "\n",
        "# reading dataset\n",
        "pakDataFrame = pd.read_excel('/content/pakindea.xlsx')\n",
        "\n",
        "# preprocessing\n",
        "columns = [\"Ground\", \"Winner\"]\n",
        "logisDf = pakDataFrame[columns]\n",
        "\n",
        "# removing NaN and Unknown values\n",
        "logisDf=logisDf[logisDf['Ground'].notna()]\n",
        "logisDf=logisDf[logisDf['Winner']!='no result']\n",
        "logisDf=logisDf[logisDf['Winner']!='abandoned']\n",
        "\n",
        "logisDf['Ground'] = label_encoder.fit_transform(logisDf['Ground'])\n",
        "logisDf['Winner'] = label_encoder.fit_transform(logisDf['Winner'])\n",
        "\n",
        "X = logisDf[[\"Ground\"]].to_numpy()\n",
        "Y = logisDf[\"Winner\"].to_numpy()\n",
        "\n",
        "\n",
        "XTrain, XTest, YTrain, YTest = train_test_split(X, Y, test_size=0.30, random_state=42)\n",
        "\n",
        "model = LogisticRegression(random_state=0)\n",
        "\n",
        "model.fit(XTrain, YTrain)\n",
        "\n",
        "yPred = model.predict(XTest)\n",
        "\n",
        "logistic_model_accuracy=accuracy_score(YTest, yPred)\n",
        "\n",
        "print(\"Accuracy\", logistic_model_accuracy*100)\n",
        "\n",
        "# Plot outputs\n",
        "# plt.scatter(XTest, YTest, color=\"black\")\n",
        "# plt.plot(XTest, yPred, color=\"blue\", linewidth=3)\n",
        "\n",
        "# plt.xticks(())\n",
        "# plt.yticks(())\n",
        "# plt.xlabel(\"Ground\")\n",
        "# plt.ylabel(\"Winner\")\n",
        "# plt.show()\n",
        "\n",
        "# cm = confusion_matrix(YTest, yPred)\n",
        "# print (\"Confusion Matrix : \\n\", cm)\n",
        "# plt.show()"
      ],
      "metadata": {
        "colab": {
          "base_uri": "https://localhost:8080/"
        },
        "id": "JTt0hOV0n6jO",
        "outputId": "25116579-7500-4cf0-9953-03dd1c1b2fa4"
      },
      "execution_count": null,
      "outputs": [
        {
          "output_type": "stream",
          "name": "stdout",
          "text": [
            "Accuracy 51.85185185185185\n"
          ]
        }
      ]
    },
    {
      "cell_type": "code",
      "source": [
        "# Association, Apriori\n",
        "\n",
        "appDf = dataFrame\n",
        "\n",
        "appDf=appDf[['Delivery Length', 'Delivery Line', 'Shot Type ', 'Hit Type', 'Ball Type','Out_type']]\n",
        "\n",
        "\n",
        "# preprossing\n",
        "appDf=appDf[appDf['Delivery Length'].notna()]\n",
        "appDf=appDf[appDf['Delivery Length']!='Unknown']\n",
        "appDf=appDf[appDf['Delivery Line'].notna()]\n",
        "appDf=appDf[appDf['Delivery Line']!='Unknown']\n",
        "appDf=appDf[appDf['Shot Type '].notna()]\n",
        "appDf=appDf[appDf['Shot Type ']!='Unknown']\n",
        "appDf=appDf[appDf['Hit Type'].notna()]\n",
        "appDf=appDf[appDf['Hit Type']!='Unknown']\n",
        "appDf=appDf[appDf['Ball Type'].notna()]\n",
        "appDf=appDf[appDf['Ball Type']!='Unknown']\n",
        "appDf=appDf[appDf['Out_type'].notna()]\n",
        "appDf=appDf[appDf['Out_type']!='Unknown']\n",
        "\n",
        "appDf.shape\n",
        "recordList = []\n",
        "for i in range(0, 5):\n",
        "  recordList.append([str(appDf.values[i, j]) for j in range(0, 5)])\n",
        "\n",
        "rules = apriori(recordList, min_support = 0.30, min_confidence = 0.25, min_lift = 2.0, min_length = 2)\n",
        "response = list(rules)\n",
        "response\n"
      ],
      "metadata": {
        "colab": {
          "base_uri": "https://localhost:8080/"
        },
        "id": "iSh86YEjIFeC",
        "outputId": "e1e0c541-3bfa-4e0b-e01c-2757400c1932"
      },
      "execution_count": null,
      "outputs": [
        {
          "output_type": "execute_result",
          "data": {
            "text/plain": [
              "[RelationRecord(items=frozenset({'into the pads', 'Full length(5-6 m)'}), support=0.4, ordered_statistics=[OrderedStatistic(items_base=frozenset({'Full length(5-6 m)'}), items_add=frozenset({'into the pads'}), confidence=1.0, lift=2.5), OrderedStatistic(items_base=frozenset({'into the pads'}), items_add=frozenset({'Full length(5-6 m)'}), confidence=1.0, lift=2.5)]),\n",
              " RelationRecord(items=frozenset({'into the pads', 'Full length(5-6 m)', 'Flick'}), support=0.4, ordered_statistics=[OrderedStatistic(items_base=frozenset({'Full length(5-6 m)'}), items_add=frozenset({'into the pads', 'Flick'}), confidence=1.0, lift=2.5), OrderedStatistic(items_base=frozenset({'into the pads'}), items_add=frozenset({'Full length(5-6 m)', 'Flick'}), confidence=1.0, lift=2.5), OrderedStatistic(items_base=frozenset({'Full length(5-6 m)', 'Flick'}), items_add=frozenset({'into the pads'}), confidence=1.0, lift=2.5), OrderedStatistic(items_base=frozenset({'into the pads', 'Flick'}), items_add=frozenset({'Full length(5-6 m)'}), confidence=1.0, lift=2.5)]),\n",
              " RelationRecord(items=frozenset({'into the pads', 'Legal', 'Full length(5-6 m)'}), support=0.4, ordered_statistics=[OrderedStatistic(items_base=frozenset({'Full length(5-6 m)'}), items_add=frozenset({'into the pads', 'Legal'}), confidence=1.0, lift=2.5), OrderedStatistic(items_base=frozenset({'into the pads'}), items_add=frozenset({'Legal', 'Full length(5-6 m)'}), confidence=1.0, lift=2.5), OrderedStatistic(items_base=frozenset({'Legal', 'Full length(5-6 m)'}), items_add=frozenset({'into the pads'}), confidence=1.0, lift=2.5), OrderedStatistic(items_base=frozenset({'into the pads', 'Legal'}), items_add=frozenset({'Full length(5-6 m)'}), confidence=1.0, lift=2.5)]),\n",
              " RelationRecord(items=frozenset({'into the pads', 'Legal', 'Full length(5-6 m)', 'Flick'}), support=0.4, ordered_statistics=[OrderedStatistic(items_base=frozenset({'Full length(5-6 m)'}), items_add=frozenset({'into the pads', 'Legal', 'Flick'}), confidence=1.0, lift=2.5), OrderedStatistic(items_base=frozenset({'into the pads'}), items_add=frozenset({'Legal', 'Full length(5-6 m)', 'Flick'}), confidence=1.0, lift=2.5), OrderedStatistic(items_base=frozenset({'Full length(5-6 m)', 'Flick'}), items_add=frozenset({'into the pads', 'Legal'}), confidence=1.0, lift=2.5), OrderedStatistic(items_base=frozenset({'into the pads', 'Flick'}), items_add=frozenset({'Legal', 'Full length(5-6 m)'}), confidence=1.0, lift=2.5), OrderedStatistic(items_base=frozenset({'Legal', 'Full length(5-6 m)'}), items_add=frozenset({'into the pads', 'Flick'}), confidence=1.0, lift=2.5), OrderedStatistic(items_base=frozenset({'into the pads', 'Legal'}), items_add=frozenset({'Full length(5-6 m)', 'Flick'}), confidence=1.0, lift=2.5), OrderedStatistic(items_base=frozenset({'Legal', 'Full length(5-6 m)', 'Flick'}), items_add=frozenset({'into the pads'}), confidence=1.0, lift=2.5), OrderedStatistic(items_base=frozenset({'into the pads', 'Legal', 'Flick'}), items_add=frozenset({'Full length(5-6 m)'}), confidence=1.0, lift=2.5)])]"
            ]
          },
          "metadata": {},
          "execution_count": 86
        }
      ]
    },
    {
      "cell_type": "code",
      "source": [
        "!pip install apyori"
      ],
      "metadata": {
        "colab": {
          "base_uri": "https://localhost:8080/"
        },
        "id": "8Bs06NI3SbgY",
        "outputId": "5f0eb814-4118-4667-9c9e-12e8e4390ad9"
      },
      "execution_count": null,
      "outputs": [
        {
          "output_type": "stream",
          "name": "stdout",
          "text": [
            "Collecting apyori\n",
            "  Downloading apyori-1.1.2.tar.gz (8.6 kB)\n",
            "Building wheels for collected packages: apyori\n",
            "  Building wheel for apyori (setup.py) ... \u001b[?25l\u001b[?25hdone\n",
            "  Created wheel for apyori: filename=apyori-1.1.2-py3-none-any.whl size=5974 sha256=bde10ccc3c3981c3e569a1ec32445b26d67e5db544e1fc023fc145ad59944621\n",
            "  Stored in directory: /root/.cache/pip/wheels/cb/f6/e1/57973c631d27efd1a2f375bd6a83b2a616c4021f24aab84080\n",
            "Successfully built apyori\n",
            "Installing collected packages: apyori\n",
            "Successfully installed apyori-1.1.2\n"
          ]
        }
      ]
    },
    {
      "cell_type": "code",
      "source": [
        ""
      ],
      "metadata": {
        "id": "inHWaRp3LjAO"
      },
      "execution_count": null,
      "outputs": []
    }
  ]
}